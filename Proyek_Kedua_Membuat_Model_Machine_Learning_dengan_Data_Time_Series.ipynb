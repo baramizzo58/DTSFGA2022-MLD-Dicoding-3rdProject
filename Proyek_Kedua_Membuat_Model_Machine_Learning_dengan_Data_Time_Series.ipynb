{
  "nbformat": 4,
  "nbformat_minor": 0,
  "metadata": {
    "colab": {
      "provenance": []
    },
    "kernelspec": {
      "name": "python3",
      "display_name": "Python 3"
    },
    "language_info": {
      "name": "python"
    },
    "accelerator": "GPU",
    "gpuClass": "standard"
  },
  "cells": [
    {
      "cell_type": "code",
      "execution_count": 62,
      "metadata": {
        "id": "bvOFeMZrHr0Z"
      },
      "outputs": [],
      "source": [
        "import numpy as np\n",
        "import pandas as pd\n",
        "from keras.layers import Dense, LSTM\n",
        "import matplotlib.pyplot as plt\n",
        "import tensorflow as tf"
      ]
    },
    {
      "cell_type": "code",
      "source": [
        "data_train = pd.read_csv('data_gold_price.csv')\n",
        "data_train.head()"
      ],
      "metadata": {
        "colab": {
          "base_uri": "https://localhost:8080/",
          "height": 195
        },
        "id": "SIsKrG6tId1d",
        "outputId": "6baab104-6943-4d70-8890-bb4d4097b844"
      },
      "execution_count": 63,
      "outputs": [
        {
          "output_type": "execute_result",
          "data": {
            "text/plain": [
              "         Date  Value\n",
              "0  1970-01-01   35.2\n",
              "1  1970-04-01   35.1\n",
              "2  1970-07-01   35.4\n",
              "3  1970-10-01   36.2\n",
              "4  1971-01-01   37.4"
            ],
            "text/html": [
              "\n",
              "  <div id=\"df-266ca427-3c1b-4e46-8377-da8925fa3cbd\">\n",
              "    <div class=\"colab-df-container\">\n",
              "      <div>\n",
              "<style scoped>\n",
              "    .dataframe tbody tr th:only-of-type {\n",
              "        vertical-align: middle;\n",
              "    }\n",
              "\n",
              "    .dataframe tbody tr th {\n",
              "        vertical-align: top;\n",
              "    }\n",
              "\n",
              "    .dataframe thead th {\n",
              "        text-align: right;\n",
              "    }\n",
              "</style>\n",
              "<table border=\"1\" class=\"dataframe\">\n",
              "  <thead>\n",
              "    <tr style=\"text-align: right;\">\n",
              "      <th></th>\n",
              "      <th>Date</th>\n",
              "      <th>Value</th>\n",
              "    </tr>\n",
              "  </thead>\n",
              "  <tbody>\n",
              "    <tr>\n",
              "      <th>0</th>\n",
              "      <td>1970-01-01</td>\n",
              "      <td>35.2</td>\n",
              "    </tr>\n",
              "    <tr>\n",
              "      <th>1</th>\n",
              "      <td>1970-04-01</td>\n",
              "      <td>35.1</td>\n",
              "    </tr>\n",
              "    <tr>\n",
              "      <th>2</th>\n",
              "      <td>1970-07-01</td>\n",
              "      <td>35.4</td>\n",
              "    </tr>\n",
              "    <tr>\n",
              "      <th>3</th>\n",
              "      <td>1970-10-01</td>\n",
              "      <td>36.2</td>\n",
              "    </tr>\n",
              "    <tr>\n",
              "      <th>4</th>\n",
              "      <td>1971-01-01</td>\n",
              "      <td>37.4</td>\n",
              "    </tr>\n",
              "  </tbody>\n",
              "</table>\n",
              "</div>\n",
              "      <button class=\"colab-df-convert\" onclick=\"convertToInteractive('df-266ca427-3c1b-4e46-8377-da8925fa3cbd')\"\n",
              "              title=\"Convert this dataframe to an interactive table.\"\n",
              "              style=\"display:none;\">\n",
              "        \n",
              "  <svg xmlns=\"http://www.w3.org/2000/svg\" height=\"24px\"viewBox=\"0 0 24 24\"\n",
              "       width=\"24px\">\n",
              "    <path d=\"M0 0h24v24H0V0z\" fill=\"none\"/>\n",
              "    <path d=\"M18.56 5.44l.94 2.06.94-2.06 2.06-.94-2.06-.94-.94-2.06-.94 2.06-2.06.94zm-11 1L8.5 8.5l.94-2.06 2.06-.94-2.06-.94L8.5 2.5l-.94 2.06-2.06.94zm10 10l.94 2.06.94-2.06 2.06-.94-2.06-.94-.94-2.06-.94 2.06-2.06.94z\"/><path d=\"M17.41 7.96l-1.37-1.37c-.4-.4-.92-.59-1.43-.59-.52 0-1.04.2-1.43.59L10.3 9.45l-7.72 7.72c-.78.78-.78 2.05 0 2.83L4 21.41c.39.39.9.59 1.41.59.51 0 1.02-.2 1.41-.59l7.78-7.78 2.81-2.81c.8-.78.8-2.07 0-2.86zM5.41 20L4 18.59l7.72-7.72 1.47 1.35L5.41 20z\"/>\n",
              "  </svg>\n",
              "      </button>\n",
              "      \n",
              "  <style>\n",
              "    .colab-df-container {\n",
              "      display:flex;\n",
              "      flex-wrap:wrap;\n",
              "      gap: 12px;\n",
              "    }\n",
              "\n",
              "    .colab-df-convert {\n",
              "      background-color: #E8F0FE;\n",
              "      border: none;\n",
              "      border-radius: 50%;\n",
              "      cursor: pointer;\n",
              "      display: none;\n",
              "      fill: #1967D2;\n",
              "      height: 32px;\n",
              "      padding: 0 0 0 0;\n",
              "      width: 32px;\n",
              "    }\n",
              "\n",
              "    .colab-df-convert:hover {\n",
              "      background-color: #E2EBFA;\n",
              "      box-shadow: 0px 1px 2px rgba(60, 64, 67, 0.3), 0px 1px 3px 1px rgba(60, 64, 67, 0.15);\n",
              "      fill: #174EA6;\n",
              "    }\n",
              "\n",
              "    [theme=dark] .colab-df-convert {\n",
              "      background-color: #3B4455;\n",
              "      fill: #D2E3FC;\n",
              "    }\n",
              "\n",
              "    [theme=dark] .colab-df-convert:hover {\n",
              "      background-color: #434B5C;\n",
              "      box-shadow: 0px 1px 3px 1px rgba(0, 0, 0, 0.15);\n",
              "      filter: drop-shadow(0px 1px 2px rgba(0, 0, 0, 0.3));\n",
              "      fill: #FFFFFF;\n",
              "    }\n",
              "  </style>\n",
              "\n",
              "      <script>\n",
              "        const buttonEl =\n",
              "          document.querySelector('#df-266ca427-3c1b-4e46-8377-da8925fa3cbd button.colab-df-convert');\n",
              "        buttonEl.style.display =\n",
              "          google.colab.kernel.accessAllowed ? 'block' : 'none';\n",
              "\n",
              "        async function convertToInteractive(key) {\n",
              "          const element = document.querySelector('#df-266ca427-3c1b-4e46-8377-da8925fa3cbd');\n",
              "          const dataTable =\n",
              "            await google.colab.kernel.invokeFunction('convertToInteractive',\n",
              "                                                     [key], {});\n",
              "          if (!dataTable) return;\n",
              "\n",
              "          const docLinkHtml = 'Like what you see? Visit the ' +\n",
              "            '<a target=\"_blank\" href=https://colab.research.google.com/notebooks/data_table.ipynb>data table notebook</a>'\n",
              "            + ' to learn more about interactive tables.';\n",
              "          element.innerHTML = '';\n",
              "          dataTable['output_type'] = 'display_data';\n",
              "          await google.colab.output.renderOutput(dataTable, element);\n",
              "          const docLink = document.createElement('div');\n",
              "          docLink.innerHTML = docLinkHtml;\n",
              "          element.appendChild(docLink);\n",
              "        }\n",
              "      </script>\n",
              "    </div>\n",
              "  </div>\n",
              "  "
            ]
          },
          "metadata": {},
          "execution_count": 63
        }
      ]
    },
    {
      "cell_type": "code",
      "source": [
        "data_train.isnull().sum()"
      ],
      "metadata": {
        "colab": {
          "base_uri": "https://localhost:8080/"
        },
        "id": "gvrfc7qVIuIl",
        "outputId": "313fc7a0-0468-4075-ffd9-4906297e5ed5"
      },
      "execution_count": 64,
      "outputs": [
        {
          "output_type": "execute_result",
          "data": {
            "text/plain": [
              "Date     0\n",
              "Value    0\n",
              "dtype: int64"
            ]
          },
          "metadata": {},
          "execution_count": 64
        }
      ]
    },
    {
      "cell_type": "code",
      "source": [
        "dates = data_train['Date'].values\n",
        "values = data_train['Value'].values"
      ],
      "metadata": {
        "id": "zh1-SmbcIw3B"
      },
      "execution_count": 65,
      "outputs": []
    },
    {
      "cell_type": "code",
      "source": [
        "plt.figure(figsize=(15,5))\n",
        "plt.plot(dates, values)\n",
        "plt.title('Value average',\n",
        "          fontsize=20);"
      ],
      "metadata": {
        "colab": {
          "base_uri": "https://localhost:8080/",
          "height": 341
        },
        "id": "WtlFefIoI3ln",
        "outputId": "cbf9a341-dce4-436d-f001-ef40399bc7c8"
      },
      "execution_count": 66,
      "outputs": [
        {
          "output_type": "display_data",
          "data": {
            "text/plain": [
              "<Figure size 1080x360 with 1 Axes>"
            ],
            "image/png": "[encoded data removed]"
          },
          "metadata": {
            "needs_background": "light"
          }
        }
      ]
    },
    {
      "cell_type": "code",
      "source": [
        "#def windowed_dataset(series, window_size, batch_size, shuffle_buffer):\n",
        "  #series = tf.expand_dims(series, axis=-1)\n",
        "  #ds = tf.data.Dataset.from_tensor_slices(series)\n",
        "  #ds = ds.window(window_size + 1, shift=1, drop_remainder=True)\n",
        "  #ds = ds.flat_map(lambda w: w.batch(window_size + 1))\n",
        "  #ds = ds.shuffle(shuffle_buffer)\n",
        "  #ds = ds.map(lambda w: (w[:-1], w[-1:]))\n",
        "  #return ds.batch(batch_size).prefetch(1)"
      ],
      "metadata": {
        "id": "o-_YxdvUI7qC"
      },
      "execution_count": 67,
      "outputs": []
    },
    {
      "cell_type": "code",
      "source": [
        "#from sklearn.model_selection import train_test_split\n",
        "#dates_latih, dates_test, values_latih, values_test = train_test_split(dates, values, test_size=0.2)"
      ],
      "metadata": {
        "id": "LYH8iEOhJXrP"
      },
      "execution_count": 68,
      "outputs": []
    },
    {
      "cell_type": "code",
      "source": [
        "data_num = len(data_train['Value'])\n",
        "val_split = 0.2\n",
        "\n",
        "val_num = int(val_split * data_num)\n",
        "train_num = data_num - val_num"
      ],
      "metadata": {
        "id": "YCeBrvE_KN4K"
      },
      "execution_count": 69,
      "outputs": []
    },
    {
      "cell_type": "code",
      "source": [
        "val_num"
      ],
      "metadata": {
        "colab": {
          "base_uri": "https://localhost:8080/"
        },
        "id": "QopihMWAONQG",
        "outputId": "694b2867-9030-4241-d062-805b59c87232"
      },
      "execution_count": 70,
      "outputs": [
        {
          "output_type": "execute_result",
          "data": {
            "text/plain": [
              "2157"
            ]
          },
          "metadata": {},
          "execution_count": 70
        }
      ]
    },
    {
      "cell_type": "code",
      "source": [
        "train_num"
      ],
      "metadata": {
        "colab": {
          "base_uri": "https://localhost:8080/"
        },
        "id": "DrwtVchRSTzN",
        "outputId": "a864502c-ce46-4b2d-aa4e-1af49c2ef23f"
      },
      "execution_count": 71,
      "outputs": [
        {
          "output_type": "execute_result",
          "data": {
            "text/plain": [
              "8630"
            ]
          },
          "metadata": {},
          "execution_count": 71
        }
      ]
    },
    {
      "cell_type": "code",
      "source": [
        "val = data_train[train_num:]\n",
        "train = data_train[:train_num]"
      ],
      "metadata": {
        "id": "ru3g6CqJScjK"
      },
      "execution_count": 72,
      "outputs": []
    },
    {
      "cell_type": "code",
      "source": [
        "from sklearn.preprocessing import MinMaxScaler\n",
        "scaler_data = MinMaxScaler(feature_range=(0, 1))\n",
        "scaled_data = scaler_data.fit_transform(data_train['Value'].values.reshape(-1,1))\n",
        "\n",
        "threshold_mae = (scaled_data.max() - scaled_data.min()) * 1/10\n",
        "threshold_mae"
      ],
      "metadata": {
        "colab": {
          "base_uri": "https://localhost:8080/"
        },
        "id": "sPBd4qXGTT9K",
        "outputId": "661ecc74-c0f9-4f7f-8ae1-1bbe8d62a297"
      },
      "execution_count": 73,
      "outputs": [
        {
          "output_type": "execute_result",
          "data": {
            "text/plain": [
              "0.1"
            ]
          },
          "metadata": {},
          "execution_count": 73
        }
      ]
    },
    {
      "cell_type": "code",
      "source": [
        "scaler_train = MinMaxScaler(feature_range=(0, 1))\n",
        "scaled_train = scaler_train.fit_transform(train['Value'].values.reshape(-1,1))\n",
        "\n",
        "scaler_val = MinMaxScaler(feature_range=(0, 1))\n",
        "scaled_val = scaler_val.fit_transform(val['Value'].values.reshape(-1,1))"
      ],
      "metadata": {
        "id": "TV1c6045UE2v"
      },
      "execution_count": 74,
      "outputs": []
    },
    {
      "cell_type": "code",
      "source": [
        "def create_dataset(dataset, look_back=30):\n",
        "    data_X, data_Y = [], []\n",
        "    for i in range(len(dataset) - look_back):\n",
        "        a = dataset[i:(i + look_back), 0]\n",
        "        data_X.append(a)\n",
        "        data_Y.append(dataset[i + look_back, 0])\n",
        "    return np.array(data_X), np.array(data_Y)\n",
        "\n",
        "X_val, Y_val = create_dataset(scaled_val)\n",
        "X_train, Y_train = create_dataset(scaled_train)"
      ],
      "metadata": {
        "id": "ecVfyrSJUWVj"
      },
      "execution_count": 75,
      "outputs": []
    },
    {
      "cell_type": "code",
      "source": [
        "X_val = np.reshape(X_val, (X_val.shape[0], 1, X_val.shape[1]))\n",
        "X_train = np.reshape(X_train, (X_train.shape[0], 1, X_train.shape[1]))"
      ],
      "metadata": {
        "id": "AFMi6-JuVJ0x"
      },
      "execution_count": 76,
      "outputs": []
    },
    {
      "cell_type": "code",
      "source": [
        "#train_set = windowed_dataset(values, window_size=60, batch_size=100, shuffle_buffer=1000)\n",
        "model = tf.keras.models.Sequential([\n",
        "    tf.keras.layers.LSTM(1024, return_sequences=True),\n",
        "    tf.keras.layers.LSTM(512),\n",
        "    tf.keras.layers.Dense(128, activation=\"relu\"),\n",
        "    tf.keras.layers.Dropout(0.5),\n",
        "    tf.keras.layers.Dense(64, activation=\"relu\"),\n",
        "    tf.keras.layers.Dropout(0.25),\n",
        "    tf.keras.layers.Dense(1),\n",
        "])\n"
      ],
      "metadata": {
        "id": "U4EWz_xSJPPi"
      },
      "execution_count": 77,
      "outputs": []
    },
    {
      "cell_type": "code",
      "source": [
        "optimizer = tf.keras.optimizers.Adam(lr=0.001)\n",
        "model.compile(loss='mean_absolute_error',\n",
        "              optimizer=optimizer,\n",
        "              metrics=[\"mae\"])\n",
        "history = model.fit(X_train, Y_train,\n",
        "                    epochs=100,\n",
        "                    validation_data=[X_val, Y_val])"
      ],
      "metadata": {
        "colab": {
          "base_uri": "https://localhost:8080/"
        },
        "id": "FHHSjqFFJW1V",
        "outputId": "e5757080-7f40-4d30-8f5c-4fd9f468e00f"
      },
      "execution_count": 78,
      "outputs": [
        {
          "output_type": "stream",
          "name": "stdout",
          "text": [
            "Epoch 1/100\n"
          ]
        },
        {
          "output_type": "stream",
          "name": "stderr",
          "text": [
            "/usr/local/lib/python3.8/dist-packages/keras/optimizers/optimizer_v2/adam.py:110: UserWarning: The `lr` argument is deprecated, use `learning_rate` instead.\n",
            "  super(Adam, self).__init__(name, **kwargs)\n"
          ]
        },
        {
          "output_type": "stream",
          "name": "stdout",
          "text": [
            "269/269 [==============================] - 7s 10ms/step - loss: 0.0399 - mae: 0.0399 - val_loss: 0.0468 - val_mae: 0.0468\n",
            "Epoch 2/100\n",
            "269/269 [==============================] - 2s 8ms/step - loss: 0.0253 - mae: 0.0253 - val_loss: 0.0472 - val_mae: 0.0472\n",
            "Epoch 3/100\n",
            "269/269 [==============================] - 2s 7ms/step - loss: 0.0209 - mae: 0.0209 - val_loss: 0.0352 - val_mae: 0.0352\n",
            "Epoch 4/100\n",
            "269/269 [==============================] - 2s 7ms/step - loss: 0.0195 - mae: 0.0195 - val_loss: 0.0318 - val_mae: 0.0318\n",
            "Epoch 5/100\n",
            "269/269 [==============================] - 2s 7ms/step - loss: 0.0170 - mae: 0.0170 - val_loss: 0.0557 - val_mae: 0.0557\n",
            "Epoch 6/100\n",
            "269/269 [==============================] - 2s 7ms/step - loss: 0.0170 - mae: 0.0170 - val_loss: 0.0557 - val_mae: 0.0557\n",
            "Epoch 7/100\n",
            "269/269 [==============================] - 2s 7ms/step - loss: 0.0167 - mae: 0.0167 - val_loss: 0.0424 - val_mae: 0.0424\n",
            "Epoch 8/100\n",
            "269/269 [==============================] - 2s 8ms/step - loss: 0.0166 - mae: 0.0166 - val_loss: 0.0621 - val_mae: 0.0621\n",
            "Epoch 9/100\n",
            "269/269 [==============================] - 2s 8ms/step - loss: 0.0159 - mae: 0.0159 - val_loss: 0.0775 - val_mae: 0.0775\n",
            "Epoch 10/100\n",
            "269/269 [==============================] - 2s 8ms/step - loss: 0.0153 - mae: 0.0153 - val_loss: 0.0632 - val_mae: 0.0632\n",
            "Epoch 11/100\n",
            "269/269 [==============================] - 2s 8ms/step - loss: 0.0154 - mae: 0.0154 - val_loss: 0.0637 - val_mae: 0.0637\n",
            "Epoch 12/100\n",
            "269/269 [==============================] - 2s 7ms/step - loss: 0.0148 - mae: 0.0148 - val_loss: 0.0883 - val_mae: 0.0883\n",
            "Epoch 13/100\n",
            "269/269 [==============================] - 2s 7ms/step - loss: 0.0149 - mae: 0.0149 - val_loss: 0.0714 - val_mae: 0.0714\n",
            "Epoch 14/100\n",
            "269/269 [==============================] - 2s 7ms/step - loss: 0.0146 - mae: 0.0146 - val_loss: 0.0687 - val_mae: 0.0687\n",
            "Epoch 15/100\n",
            "269/269 [==============================] - 2s 7ms/step - loss: 0.0149 - mae: 0.0149 - val_loss: 0.0861 - val_mae: 0.0861\n",
            "Epoch 16/100\n",
            "269/269 [==============================] - 2s 7ms/step - loss: 0.0149 - mae: 0.0149 - val_loss: 0.0757 - val_mae: 0.0757\n",
            "Epoch 17/100\n",
            "269/269 [==============================] - 2s 8ms/step - loss: 0.0144 - mae: 0.0144 - val_loss: 0.0760 - val_mae: 0.0760\n",
            "Epoch 18/100\n",
            "269/269 [==============================] - 2s 7ms/step - loss: 0.0141 - mae: 0.0141 - val_loss: 0.0872 - val_mae: 0.0872\n",
            "Epoch 19/100\n",
            "269/269 [==============================] - 2s 8ms/step - loss: 0.0139 - mae: 0.0139 - val_loss: 0.0928 - val_mae: 0.0928\n",
            "Epoch 20/100\n",
            "269/269 [==============================] - 2s 7ms/step - loss: 0.0138 - mae: 0.0138 - val_loss: 0.0852 - val_mae: 0.0852\n",
            "Epoch 21/100\n",
            "269/269 [==============================] - 2s 7ms/step - loss: 0.0136 - mae: 0.0136 - val_loss: 0.0872 - val_mae: 0.0872\n",
            "Epoch 22/100\n",
            "269/269 [==============================] - 2s 7ms/step - loss: 0.0136 - mae: 0.0136 - val_loss: 0.0712 - val_mae: 0.0712\n",
            "Epoch 23/100\n",
            "269/269 [==============================] - 2s 8ms/step - loss: 0.0137 - mae: 0.0137 - val_loss: 0.0812 - val_mae: 0.0812\n",
            "Epoch 24/100\n",
            "269/269 [==============================] - 2s 7ms/step - loss: 0.0139 - mae: 0.0139 - val_loss: 0.0716 - val_mae: 0.0716\n",
            "Epoch 25/100\n",
            "269/269 [==============================] - 2s 7ms/step - loss: 0.0137 - mae: 0.0137 - val_loss: 0.0836 - val_mae: 0.0836\n",
            "Epoch 26/100\n",
            "269/269 [==============================] - 2s 7ms/step - loss: 0.0133 - mae: 0.0133 - val_loss: 0.0867 - val_mae: 0.0867\n",
            "Epoch 27/100\n",
            "269/269 [==============================] - 2s 7ms/step - loss: 0.0131 - mae: 0.0131 - val_loss: 0.0848 - val_mae: 0.0848\n",
            "Epoch 28/100\n",
            "269/269 [==============================] - 2s 8ms/step - loss: 0.0134 - mae: 0.0134 - val_loss: 0.0859 - val_mae: 0.0859\n",
            "Epoch 29/100\n",
            "269/269 [==============================] - 2s 8ms/step - loss: 0.0136 - mae: 0.0136 - val_loss: 0.0841 - val_mae: 0.0841\n",
            "Epoch 30/100\n",
            "269/269 [==============================] - 2s 7ms/step - loss: 0.0133 - mae: 0.0133 - val_loss: 0.0901 - val_mae: 0.0901\n",
            "Epoch 31/100\n",
            "269/269 [==============================] - 2s 7ms/step - loss: 0.0129 - mae: 0.0129 - val_loss: 0.0851 - val_mae: 0.0851\n",
            "Epoch 32/100\n",
            "269/269 [==============================] - 2s 8ms/step - loss: 0.0130 - mae: 0.0130 - val_loss: 0.0866 - val_mae: 0.0866\n",
            "Epoch 33/100\n",
            "269/269 [==============================] - 2s 7ms/step - loss: 0.0137 - mae: 0.0137 - val_loss: 0.0896 - val_mae: 0.0896\n",
            "Epoch 34/100\n",
            "269/269 [==============================] - 2s 7ms/step - loss: 0.0126 - mae: 0.0126 - val_loss: 0.0786 - val_mae: 0.0786\n",
            "Epoch 35/100\n",
            "269/269 [==============================] - 2s 7ms/step - loss: 0.0133 - mae: 0.0133 - val_loss: 0.0740 - val_mae: 0.0740\n",
            "Epoch 36/100\n",
            "269/269 [==============================] - 2s 7ms/step - loss: 0.0134 - mae: 0.0134 - val_loss: 0.0874 - val_mae: 0.0874\n",
            "Epoch 37/100\n",
            "269/269 [==============================] - 2s 8ms/step - loss: 0.0129 - mae: 0.0129 - val_loss: 0.0713 - val_mae: 0.0713\n",
            "Epoch 38/100\n",
            "269/269 [==============================] - 2s 7ms/step - loss: 0.0128 - mae: 0.0128 - val_loss: 0.0863 - val_mae: 0.0863\n",
            "Epoch 39/100\n",
            "269/269 [==============================] - 2s 7ms/step - loss: 0.0129 - mae: 0.0129 - val_loss: 0.0777 - val_mae: 0.0777\n",
            "Epoch 40/100\n",
            "269/269 [==============================] - 2s 7ms/step - loss: 0.0132 - mae: 0.0132 - val_loss: 0.0712 - val_mae: 0.0712\n",
            "Epoch 41/100\n",
            "269/269 [==============================] - 2s 7ms/step - loss: 0.0124 - mae: 0.0124 - val_loss: 0.0751 - val_mae: 0.0751\n",
            "Epoch 42/100\n",
            "269/269 [==============================] - 2s 7ms/step - loss: 0.0131 - mae: 0.0131 - val_loss: 0.0747 - val_mae: 0.0747\n",
            "Epoch 43/100\n",
            "269/269 [==============================] - 2s 7ms/step - loss: 0.0129 - mae: 0.0129 - val_loss: 0.0808 - val_mae: 0.0808\n",
            "Epoch 44/100\n",
            "269/269 [==============================] - 2s 7ms/step - loss: 0.0129 - mae: 0.0129 - val_loss: 0.0744 - val_mae: 0.0744\n",
            "Epoch 45/100\n",
            "269/269 [==============================] - 2s 7ms/step - loss: 0.0129 - mae: 0.0129 - val_loss: 0.0754 - val_mae: 0.0754\n",
            "Epoch 46/100\n",
            "269/269 [==============================] - 2s 7ms/step - loss: 0.0125 - mae: 0.0125 - val_loss: 0.0799 - val_mae: 0.0799\n",
            "Epoch 47/100\n",
            "269/269 [==============================] - 2s 7ms/step - loss: 0.0128 - mae: 0.0128 - val_loss: 0.0809 - val_mae: 0.0809\n",
            "Epoch 48/100\n",
            "269/269 [==============================] - 2s 8ms/step - loss: 0.0128 - mae: 0.0128 - val_loss: 0.0741 - val_mae: 0.0741\n",
            "Epoch 49/100\n",
            "269/269 [==============================] - 2s 8ms/step - loss: 0.0128 - mae: 0.0128 - val_loss: 0.0699 - val_mae: 0.0699\n",
            "Epoch 50/100\n",
            "269/269 [==============================] - 2s 7ms/step - loss: 0.0123 - mae: 0.0123 - val_loss: 0.0613 - val_mae: 0.0613\n",
            "Epoch 51/100\n",
            "269/269 [==============================] - 2s 8ms/step - loss: 0.0128 - mae: 0.0128 - val_loss: 0.0761 - val_mae: 0.0761\n",
            "Epoch 52/100\n",
            "269/269 [==============================] - 2s 7ms/step - loss: 0.0125 - mae: 0.0125 - val_loss: 0.0638 - val_mae: 0.0638\n",
            "Epoch 53/100\n",
            "269/269 [==============================] - 2s 9ms/step - loss: 0.0129 - mae: 0.0129 - val_loss: 0.0824 - val_mae: 0.0824\n",
            "Epoch 54/100\n",
            "269/269 [==============================] - 3s 10ms/step - loss: 0.0127 - mae: 0.0127 - val_loss: 0.0737 - val_mae: 0.0737\n",
            "Epoch 55/100\n",
            "269/269 [==============================] - 2s 7ms/step - loss: 0.0125 - mae: 0.0125 - val_loss: 0.0751 - val_mae: 0.0751\n",
            "Epoch 56/100\n",
            "269/269 [==============================] - 2s 7ms/step - loss: 0.0126 - mae: 0.0126 - val_loss: 0.0726 - val_mae: 0.0726\n",
            "Epoch 57/100\n",
            "269/269 [==============================] - 2s 7ms/step - loss: 0.0125 - mae: 0.0125 - val_loss: 0.0700 - val_mae: 0.0700\n",
            "Epoch 58/100\n",
            "269/269 [==============================] - 2s 8ms/step - loss: 0.0123 - mae: 0.0123 - val_loss: 0.0727 - val_mae: 0.0727\n",
            "Epoch 59/100\n",
            "269/269 [==============================] - 2s 7ms/step - loss: 0.0124 - mae: 0.0124 - val_loss: 0.0740 - val_mae: 0.0740\n",
            "Epoch 60/100\n",
            "269/269 [==============================] - 2s 7ms/step - loss: 0.0122 - mae: 0.0122 - val_loss: 0.0705 - val_mae: 0.0705\n",
            "Epoch 61/100\n",
            "269/269 [==============================] - 2s 7ms/step - loss: 0.0123 - mae: 0.0123 - val_loss: 0.0728 - val_mae: 0.0728\n",
            "Epoch 62/100\n",
            "269/269 [==============================] - 2s 7ms/step - loss: 0.0124 - mae: 0.0124 - val_loss: 0.0723 - val_mae: 0.0723\n",
            "Epoch 63/100\n",
            "269/269 [==============================] - 2s 7ms/step - loss: 0.0120 - mae: 0.0120 - val_loss: 0.0725 - val_mae: 0.0725\n",
            "Epoch 64/100\n",
            "269/269 [==============================] - 2s 7ms/step - loss: 0.0123 - mae: 0.0123 - val_loss: 0.0688 - val_mae: 0.0688\n",
            "Epoch 65/100\n",
            "269/269 [==============================] - 2s 7ms/step - loss: 0.0121 - mae: 0.0121 - val_loss: 0.0787 - val_mae: 0.0787\n",
            "Epoch 66/100\n",
            "269/269 [==============================] - 2s 7ms/step - loss: 0.0122 - mae: 0.0122 - val_loss: 0.0670 - val_mae: 0.0670\n",
            "Epoch 67/100\n",
            "269/269 [==============================] - 2s 7ms/step - loss: 0.0118 - mae: 0.0118 - val_loss: 0.0782 - val_mae: 0.0782\n",
            "Epoch 68/100\n",
            "269/269 [==============================] - 2s 7ms/step - loss: 0.0120 - mae: 0.0120 - val_loss: 0.0736 - val_mae: 0.0736\n",
            "Epoch 69/100\n",
            "269/269 [==============================] - 2s 7ms/step - loss: 0.0123 - mae: 0.0123 - val_loss: 0.0655 - val_mae: 0.0655\n",
            "Epoch 70/100\n",
            "269/269 [==============================] - 2s 7ms/step - loss: 0.0120 - mae: 0.0120 - val_loss: 0.0665 - val_mae: 0.0665\n",
            "Epoch 71/100\n",
            "269/269 [==============================] - 2s 7ms/step - loss: 0.0124 - mae: 0.0124 - val_loss: 0.0648 - val_mae: 0.0648\n",
            "Epoch 72/100\n",
            "269/269 [==============================] - 2s 7ms/step - loss: 0.0115 - mae: 0.0115 - val_loss: 0.0722 - val_mae: 0.0722\n",
            "Epoch 73/100\n",
            "269/269 [==============================] - 2s 8ms/step - loss: 0.0121 - mae: 0.0121 - val_loss: 0.0716 - val_mae: 0.0716\n",
            "Epoch 74/100\n",
            "269/269 [==============================] - 2s 7ms/step - loss: 0.0123 - mae: 0.0123 - val_loss: 0.0614 - val_mae: 0.0614\n",
            "Epoch 75/100\n",
            "269/269 [==============================] - 2s 7ms/step - loss: 0.0121 - mae: 0.0121 - val_loss: 0.0609 - val_mae: 0.0609\n",
            "Epoch 76/100\n",
            "269/269 [==============================] - 2s 7ms/step - loss: 0.0120 - mae: 0.0120 - val_loss: 0.0755 - val_mae: 0.0755\n",
            "Epoch 77/100\n",
            "269/269 [==============================] - 2s 8ms/step - loss: 0.0125 - mae: 0.0125 - val_loss: 0.0751 - val_mae: 0.0751\n",
            "Epoch 78/100\n",
            "269/269 [==============================] - 2s 7ms/step - loss: 0.0122 - mae: 0.0122 - val_loss: 0.0708 - val_mae: 0.0708\n",
            "Epoch 79/100\n",
            "269/269 [==============================] - 2s 8ms/step - loss: 0.0118 - mae: 0.0118 - val_loss: 0.0658 - val_mae: 0.0658\n",
            "Epoch 80/100\n",
            "269/269 [==============================] - 2s 7ms/step - loss: 0.0121 - mae: 0.0121 - val_loss: 0.0717 - val_mae: 0.0717\n",
            "Epoch 81/100\n",
            "269/269 [==============================] - 2s 7ms/step - loss: 0.0120 - mae: 0.0120 - val_loss: 0.0596 - val_mae: 0.0596\n",
            "Epoch 82/100\n",
            "269/269 [==============================] - 2s 7ms/step - loss: 0.0120 - mae: 0.0120 - val_loss: 0.0775 - val_mae: 0.0775\n",
            "Epoch 83/100\n",
            "269/269 [==============================] - 2s 8ms/step - loss: 0.0118 - mae: 0.0118 - val_loss: 0.0688 - val_mae: 0.0688\n",
            "Epoch 84/100\n",
            "269/269 [==============================] - 2s 7ms/step - loss: 0.0118 - mae: 0.0118 - val_loss: 0.0684 - val_mae: 0.0684\n",
            "Epoch 85/100\n",
            "269/269 [==============================] - 2s 7ms/step - loss: 0.0119 - mae: 0.0119 - val_loss: 0.0660 - val_mae: 0.0660\n",
            "Epoch 86/100\n",
            "269/269 [==============================] - 2s 7ms/step - loss: 0.0118 - mae: 0.0118 - val_loss: 0.0625 - val_mae: 0.0625\n",
            "Epoch 87/100\n",
            "269/269 [==============================] - 2s 7ms/step - loss: 0.0120 - mae: 0.0120 - val_loss: 0.0695 - val_mae: 0.0695\n",
            "Epoch 88/100\n",
            "269/269 [==============================] - 2s 7ms/step - loss: 0.0116 - mae: 0.0116 - val_loss: 0.0567 - val_mae: 0.0567\n",
            "Epoch 89/100\n",
            "269/269 [==============================] - 2s 8ms/step - loss: 0.0121 - mae: 0.0121 - val_loss: 0.0529 - val_mae: 0.0529\n",
            "Epoch 90/100\n",
            "269/269 [==============================] - 2s 7ms/step - loss: 0.0115 - mae: 0.0115 - val_loss: 0.0479 - val_mae: 0.0479\n",
            "Epoch 91/100\n",
            "269/269 [==============================] - 2s 7ms/step - loss: 0.0117 - mae: 0.0117 - val_loss: 0.0620 - val_mae: 0.0620\n",
            "Epoch 92/100\n",
            "269/269 [==============================] - 2s 8ms/step - loss: 0.0116 - mae: 0.0116 - val_loss: 0.0602 - val_mae: 0.0602\n",
            "Epoch 93/100\n",
            "269/269 [==============================] - 2s 8ms/step - loss: 0.0120 - mae: 0.0120 - val_loss: 0.0696 - val_mae: 0.0696\n",
            "Epoch 94/100\n",
            "269/269 [==============================] - 2s 7ms/step - loss: 0.0115 - mae: 0.0115 - val_loss: 0.0749 - val_mae: 0.0749\n",
            "Epoch 95/100\n",
            "269/269 [==============================] - 2s 7ms/step - loss: 0.0119 - mae: 0.0119 - val_loss: 0.0548 - val_mae: 0.0548\n",
            "Epoch 96/100\n",
            "269/269 [==============================] - 2s 7ms/step - loss: 0.0114 - mae: 0.0114 - val_loss: 0.0610 - val_mae: 0.0610\n",
            "Epoch 97/100\n",
            "269/269 [==============================] - 2s 8ms/step - loss: 0.0118 - mae: 0.0118 - val_loss: 0.0620 - val_mae: 0.0620\n",
            "Epoch 98/100\n",
            "269/269 [==============================] - 2s 7ms/step - loss: 0.0118 - mae: 0.0118 - val_loss: 0.0703 - val_mae: 0.0703\n",
            "Epoch 99/100\n",
            "269/269 [==============================] - 2s 7ms/step - loss: 0.0117 - mae: 0.0117 - val_loss: 0.0582 - val_mae: 0.0582\n",
            "Epoch 100/100\n",
            "269/269 [==============================] - 2s 7ms/step - loss: 0.0116 - mae: 0.0116 - val_loss: 0.0601 - val_mae: 0.0601\n"
          ]
        }
      ]
    }
  ]
}